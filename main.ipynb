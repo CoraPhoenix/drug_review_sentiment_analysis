{
 "cells": [
  {
   "cell_type": "markdown",
   "metadata": {},
   "source": [
    "# Analysing the Sentiment of Drug Reviews"
   ]
  },
  {
   "cell_type": "markdown",
   "metadata": {},
   "source": [
    "This is a project whose main goal is to estimate if a review of a given drug is positive or negative, as well as the occurence of positive or negative terms. This project uses the [Drug Review Database](https://www.kaggle.com/datasets/mohamedabdelwahabali/drugreview) for training and evaluation."
   ]
  },
  {
   "cell_type": "markdown",
   "metadata": {},
   "source": [
    "## 1. Importing modules"
   ]
  },
  {
   "cell_type": "code",
   "execution_count": 1,
   "metadata": {},
   "outputs": [
    {
     "name": "stderr",
     "output_type": "stream",
     "text": [
      "[nltk_data] Downloading package stopwords to\n",
      "[nltk_data]     C:\\Users\\chris\\AppData\\Roaming\\nltk_data...\n",
      "[nltk_data]   Package stopwords is already up-to-date!\n",
      "[nltk_data] Downloading package wordnet to\n",
      "[nltk_data]     C:\\Users\\chris\\AppData\\Roaming\\nltk_data...\n",
      "[nltk_data]   Package wordnet is already up-to-date!\n",
      "[nltk_data] Downloading package vader_lexicon to\n",
      "[nltk_data]     C:\\Users\\chris\\AppData\\Roaming\\nltk_data...\n",
      "[nltk_data]   Package vader_lexicon is already up-to-date!\n"
     ]
    }
   ],
   "source": [
    "import pandas as pd \n",
    "import numpy as np \n",
    "\n",
    "import matplotlib.pyplot as plt \n",
    "import re\n",
    "import string\n",
    "\n",
    "import nltk\n",
    "from nltk.tokenize import sent_tokenize\n",
    "from nltk.corpus import words\n",
    "from nltk.corpus import stopwords\n",
    "from nltk.tokenize import word_tokenize\n",
    "from nltk.stem import WordNetLemmatizer\n",
    "from nltk.stem import PorterStemmer\n",
    "#from nltk.sentiment.vader import SentimentIntensityAnalyzer\n",
    "from nltk.sentiment.util import *\n",
    "nltk.download('stopwords')\n",
    "nltk.download('wordnet')\n",
    "nltk.download('vader_lexicon')\n",
    "\n",
    "\n",
    "from collections import Counter\n",
    "\n",
    "from matplotlib import pyplot as plt\n",
    "from matplotlib import ticker\n",
    "import seaborn as sns\n",
    "import plotly.express as px\n",
    "\n",
    "from sklearn.feature_extraction.text import TfidfVectorizer\n",
    "from sklearn.ensemble import GradientBoostingClassifier\n",
    "from sklearn.metrics import accuracy_score, confusion_matrix, ConfusionMatrixDisplay, classification_report\n",
    "\n",
    "from imblearn.over_sampling import SMOTE\n",
    "\n",
    "import tensorflow as tf\n",
    "from tensorflow.keras.models import Sequential\n",
    "from tensorflow.keras.preprocessing.text import Tokenizer\n",
    "from tensorflow.keras.preprocessing.sequence import pad_sequences\n",
    "from tensorflow.keras.layers import Dense, Embedding, LSTM, SpatialDropout1D\n",
    "from tensorflow.keras.models import load_model\n",
    "\n",
    "sns.set(style=\"darkgrid\")"
   ]
  },
  {
   "cell_type": "markdown",
   "metadata": {},
   "source": [
    "## 2. Loading the Dataset"
   ]
  },
  {
   "cell_type": "markdown",
   "metadata": {},
   "source": [
    "After importing the required libraries, we now proceed with loading the dataset to be used. \\\n",
    "Obs.: The dataset was downloaded locally, so it was loaded directly from its file path."
   ]
  },
  {
   "cell_type": "code",
   "execution_count": 2,
   "metadata": {},
   "outputs": [],
   "source": [
    "# loading training, validation and test datasets\n",
    "train_df = pd.read_csv(\"archive/drug_review_train.csv\")\n",
    "valid_df = pd.read_csv(\"archive/drug_review_validation.csv\")\n",
    "test_df = pd.read_csv(\"archive/drug_review_test.csv\")"
   ]
  },
  {
   "cell_type": "code",
   "execution_count": 3,
   "metadata": {},
   "outputs": [
    {
     "name": "stdout",
     "output_type": "stream",
     "text": [
      "c:\\Users\\chris\\Documents\\GitHub Projects\\Advanced Study, Foundation and Practical Data Science Projects\\Practice Projects\\Sentiment Analysis\\Drug Review\n"
     ]
    }
   ],
   "source": [
    "#### This cell is used to set the working directory so that the program can access the data files\n",
    "\n",
    "import os\n",
    "# changing directory to the one where notebook was placed\n",
    "os.chdir(\"C:\\\\Users\\\\chris\\\\Documents\\\\GitHub Projects\\\\Advanced Study, Foundation and Practical Data Science Projects\\\\Practice Projects\\\\Sentiment Analysis\\\\Drug Review\")\n",
    "print(os.getcwd())"
   ]
  },
  {
   "cell_type": "code",
   "execution_count": 4,
   "metadata": {},
   "outputs": [
    {
     "data": {
      "text/html": [
       "<div>\n",
       "<style scoped>\n",
       "    .dataframe tbody tr th:only-of-type {\n",
       "        vertical-align: middle;\n",
       "    }\n",
       "\n",
       "    .dataframe tbody tr th {\n",
       "        vertical-align: top;\n",
       "    }\n",
       "\n",
       "    .dataframe thead th {\n",
       "        text-align: right;\n",
       "    }\n",
       "</style>\n",
       "<table border=\"1\" class=\"dataframe\">\n",
       "  <thead>\n",
       "    <tr style=\"text-align: right;\">\n",
       "      <th></th>\n",
       "      <th>Unnamed: 0</th>\n",
       "      <th>patient_id</th>\n",
       "      <th>drugName</th>\n",
       "      <th>condition</th>\n",
       "      <th>review</th>\n",
       "      <th>rating</th>\n",
       "      <th>date</th>\n",
       "      <th>usefulCount</th>\n",
       "      <th>review_length</th>\n",
       "    </tr>\n",
       "  </thead>\n",
       "  <tbody>\n",
       "    <tr>\n",
       "      <th>0</th>\n",
       "      <td>0</td>\n",
       "      <td>89879</td>\n",
       "      <td>Cyclosporine</td>\n",
       "      <td>keratoconjunctivitis sicca</td>\n",
       "      <td>\"i have used restasis for about a year now and...</td>\n",
       "      <td>2.0</td>\n",
       "      <td>April 20, 2013</td>\n",
       "      <td>69</td>\n",
       "      <td>147</td>\n",
       "    </tr>\n",
       "    <tr>\n",
       "      <th>1</th>\n",
       "      <td>1</td>\n",
       "      <td>143975</td>\n",
       "      <td>Etonogestrel</td>\n",
       "      <td>birth control</td>\n",
       "      <td>\"my experience has been somewhat mixed. i have...</td>\n",
       "      <td>7.0</td>\n",
       "      <td>August 7, 2016</td>\n",
       "      <td>4</td>\n",
       "      <td>136</td>\n",
       "    </tr>\n",
       "    <tr>\n",
       "      <th>2</th>\n",
       "      <td>2</td>\n",
       "      <td>106473</td>\n",
       "      <td>Implanon</td>\n",
       "      <td>birth control</td>\n",
       "      <td>\"this is my second implanon would not recommen...</td>\n",
       "      <td>1.0</td>\n",
       "      <td>May 11, 2016</td>\n",
       "      <td>6</td>\n",
       "      <td>140</td>\n",
       "    </tr>\n",
       "    <tr>\n",
       "      <th>3</th>\n",
       "      <td>3</td>\n",
       "      <td>184526</td>\n",
       "      <td>Hydroxyzine</td>\n",
       "      <td>anxiety</td>\n",
       "      <td>\"i recommend taking as prescribed, and the bot...</td>\n",
       "      <td>10.0</td>\n",
       "      <td>March 19, 2012</td>\n",
       "      <td>124</td>\n",
       "      <td>104</td>\n",
       "    </tr>\n",
       "    <tr>\n",
       "      <th>4</th>\n",
       "      <td>4</td>\n",
       "      <td>91587</td>\n",
       "      <td>Dalfampridine</td>\n",
       "      <td>multiple sclerosis</td>\n",
       "      <td>\"i have been on ampyra for 5 days and have bee...</td>\n",
       "      <td>9.0</td>\n",
       "      <td>August 1, 2010</td>\n",
       "      <td>101</td>\n",
       "      <td>74</td>\n",
       "    </tr>\n",
       "  </tbody>\n",
       "</table>\n",
       "</div>"
      ],
      "text/plain": [
       "   Unnamed: 0  patient_id       drugName                   condition  \\\n",
       "0           0       89879   Cyclosporine  keratoconjunctivitis sicca   \n",
       "1           1      143975   Etonogestrel               birth control   \n",
       "2           2      106473       Implanon               birth control   \n",
       "3           3      184526    Hydroxyzine                     anxiety   \n",
       "4           4       91587  Dalfampridine          multiple sclerosis   \n",
       "\n",
       "                                              review  rating            date  \\\n",
       "0  \"i have used restasis for about a year now and...     2.0  April 20, 2013   \n",
       "1  \"my experience has been somewhat mixed. i have...     7.0  August 7, 2016   \n",
       "2  \"this is my second implanon would not recommen...     1.0    May 11, 2016   \n",
       "3  \"i recommend taking as prescribed, and the bot...    10.0  March 19, 2012   \n",
       "4  \"i have been on ampyra for 5 days and have bee...     9.0  August 1, 2010   \n",
       "\n",
       "   usefulCount  review_length  \n",
       "0           69            147  \n",
       "1            4            136  \n",
       "2            6            140  \n",
       "3          124            104  \n",
       "4          101             74  "
      ]
     },
     "execution_count": 4,
     "metadata": {},
     "output_type": "execute_result"
    }
   ],
   "source": [
    "# check training dataframe\n",
    "train_df.head()"
   ]
  },
  {
   "cell_type": "code",
   "execution_count": 5,
   "metadata": {},
   "outputs": [
    {
     "data": {
      "text/html": [
       "<div>\n",
       "<style scoped>\n",
       "    .dataframe tbody tr th:only-of-type {\n",
       "        vertical-align: middle;\n",
       "    }\n",
       "\n",
       "    .dataframe tbody tr th {\n",
       "        vertical-align: top;\n",
       "    }\n",
       "\n",
       "    .dataframe thead th {\n",
       "        text-align: right;\n",
       "    }\n",
       "</style>\n",
       "<table border=\"1\" class=\"dataframe\">\n",
       "  <thead>\n",
       "    <tr style=\"text-align: right;\">\n",
       "      <th></th>\n",
       "      <th>Unnamed: 0</th>\n",
       "      <th>patient_id</th>\n",
       "      <th>drugName</th>\n",
       "      <th>condition</th>\n",
       "      <th>review</th>\n",
       "      <th>rating</th>\n",
       "      <th>date</th>\n",
       "      <th>usefulCount</th>\n",
       "      <th>review_length</th>\n",
       "    </tr>\n",
       "  </thead>\n",
       "  <tbody>\n",
       "    <tr>\n",
       "      <th>0</th>\n",
       "      <td>0</td>\n",
       "      <td>191114</td>\n",
       "      <td>Campral</td>\n",
       "      <td>alcohol dependence</td>\n",
       "      <td>\"sober a year 8-25-11. god, aa and campral hav...</td>\n",
       "      <td>10.0</td>\n",
       "      <td>September 3, 2011</td>\n",
       "      <td>33</td>\n",
       "      <td>41</td>\n",
       "    </tr>\n",
       "    <tr>\n",
       "      <th>1</th>\n",
       "      <td>1</td>\n",
       "      <td>142693</td>\n",
       "      <td>Levonorgestrel</td>\n",
       "      <td>birth control</td>\n",
       "      <td>\"i've been on birth control for a while now du...</td>\n",
       "      <td>4.0</td>\n",
       "      <td>August 9, 2017</td>\n",
       "      <td>3</td>\n",
       "      <td>140</td>\n",
       "    </tr>\n",
       "    <tr>\n",
       "      <th>2</th>\n",
       "      <td>2</td>\n",
       "      <td>71561</td>\n",
       "      <td>Vraylar</td>\n",
       "      <td>bipolar disorde</td>\n",
       "      <td>\"hi, this is an updated experience. \\r\\r\\n\\r\\r...</td>\n",
       "      <td>8.0</td>\n",
       "      <td>August 16, 2016</td>\n",
       "      <td>12</td>\n",
       "      <td>131</td>\n",
       "    </tr>\n",
       "    <tr>\n",
       "      <th>3</th>\n",
       "      <td>3</td>\n",
       "      <td>25765</td>\n",
       "      <td>Ethinyl estradiol / norelgestromin</td>\n",
       "      <td>birth control</td>\n",
       "      <td>\"i have been on the ortho evra patch for just ...</td>\n",
       "      <td>8.0</td>\n",
       "      <td>September 15, 2013</td>\n",
       "      <td>16</td>\n",
       "      <td>138</td>\n",
       "    </tr>\n",
       "    <tr>\n",
       "      <th>4</th>\n",
       "      <td>4</td>\n",
       "      <td>12843</td>\n",
       "      <td>Etanercept</td>\n",
       "      <td>psoriasis</td>\n",
       "      <td>\"i have been on enbrel for 7 years and i have ...</td>\n",
       "      <td>9.0</td>\n",
       "      <td>August 5, 2010</td>\n",
       "      <td>9</td>\n",
       "      <td>65</td>\n",
       "    </tr>\n",
       "  </tbody>\n",
       "</table>\n",
       "</div>"
      ],
      "text/plain": [
       "   Unnamed: 0  patient_id                            drugName  \\\n",
       "0           0      191114                             Campral   \n",
       "1           1      142693                      Levonorgestrel   \n",
       "2           2       71561                             Vraylar   \n",
       "3           3       25765  Ethinyl estradiol / norelgestromin   \n",
       "4           4       12843                          Etanercept   \n",
       "\n",
       "            condition                                             review  \\\n",
       "0  alcohol dependence  \"sober a year 8-25-11. god, aa and campral hav...   \n",
       "1       birth control  \"i've been on birth control for a while now du...   \n",
       "2     bipolar disorde  \"hi, this is an updated experience. \\r\\r\\n\\r\\r...   \n",
       "3       birth control  \"i have been on the ortho evra patch for just ...   \n",
       "4           psoriasis  \"i have been on enbrel for 7 years and i have ...   \n",
       "\n",
       "   rating                date  usefulCount  review_length  \n",
       "0    10.0   September 3, 2011           33             41  \n",
       "1     4.0      August 9, 2017            3            140  \n",
       "2     8.0     August 16, 2016           12            131  \n",
       "3     8.0  September 15, 2013           16            138  \n",
       "4     9.0      August 5, 2010            9             65  "
      ]
     },
     "execution_count": 5,
     "metadata": {},
     "output_type": "execute_result"
    }
   ],
   "source": [
    "# checking validation dataframe\n",
    "valid_df.head()"
   ]
  },
  {
   "cell_type": "code",
   "execution_count": 6,
   "metadata": {},
   "outputs": [
    {
     "data": {
      "text/html": [
       "<div>\n",
       "<style scoped>\n",
       "    .dataframe tbody tr th:only-of-type {\n",
       "        vertical-align: middle;\n",
       "    }\n",
       "\n",
       "    .dataframe tbody tr th {\n",
       "        vertical-align: top;\n",
       "    }\n",
       "\n",
       "    .dataframe thead th {\n",
       "        text-align: right;\n",
       "    }\n",
       "</style>\n",
       "<table border=\"1\" class=\"dataframe\">\n",
       "  <thead>\n",
       "    <tr style=\"text-align: right;\">\n",
       "      <th></th>\n",
       "      <th>Unnamed: 0</th>\n",
       "      <th>patient_id</th>\n",
       "      <th>drugName</th>\n",
       "      <th>condition</th>\n",
       "      <th>review</th>\n",
       "      <th>rating</th>\n",
       "      <th>date</th>\n",
       "      <th>usefulCount</th>\n",
       "      <th>review_length</th>\n",
       "    </tr>\n",
       "  </thead>\n",
       "  <tbody>\n",
       "    <tr>\n",
       "      <th>0</th>\n",
       "      <td>0</td>\n",
       "      <td>163740</td>\n",
       "      <td>Mirtazapine</td>\n",
       "      <td>depression</td>\n",
       "      <td>\"i've tried a few antidepressants over the yea...</td>\n",
       "      <td>10.0</td>\n",
       "      <td>February 28, 2012</td>\n",
       "      <td>22</td>\n",
       "      <td>68</td>\n",
       "    </tr>\n",
       "    <tr>\n",
       "      <th>1</th>\n",
       "      <td>1</td>\n",
       "      <td>206473</td>\n",
       "      <td>Mesalamine</td>\n",
       "      <td>crohn's disease, maintenance</td>\n",
       "      <td>\"my son has crohn's disease and has done very ...</td>\n",
       "      <td>8.0</td>\n",
       "      <td>May 17, 2009</td>\n",
       "      <td>17</td>\n",
       "      <td>48</td>\n",
       "    </tr>\n",
       "    <tr>\n",
       "      <th>2</th>\n",
       "      <td>2</td>\n",
       "      <td>39293</td>\n",
       "      <td>Contrave</td>\n",
       "      <td>weight loss</td>\n",
       "      <td>\"contrave combines drugs that were used for al...</td>\n",
       "      <td>9.0</td>\n",
       "      <td>March 5, 2017</td>\n",
       "      <td>35</td>\n",
       "      <td>143</td>\n",
       "    </tr>\n",
       "    <tr>\n",
       "      <th>3</th>\n",
       "      <td>3</td>\n",
       "      <td>97768</td>\n",
       "      <td>Cyclafem 1 / 35</td>\n",
       "      <td>birth control</td>\n",
       "      <td>\"i have been on this birth control for one cyc...</td>\n",
       "      <td>9.0</td>\n",
       "      <td>October 22, 2015</td>\n",
       "      <td>4</td>\n",
       "      <td>149</td>\n",
       "    </tr>\n",
       "    <tr>\n",
       "      <th>4</th>\n",
       "      <td>4</td>\n",
       "      <td>208087</td>\n",
       "      <td>Zyclara</td>\n",
       "      <td>keratosis</td>\n",
       "      <td>\"4 days in on first 2 weeks.  using on arms an...</td>\n",
       "      <td>4.0</td>\n",
       "      <td>July 3, 2014</td>\n",
       "      <td>13</td>\n",
       "      <td>60</td>\n",
       "    </tr>\n",
       "  </tbody>\n",
       "</table>\n",
       "</div>"
      ],
      "text/plain": [
       "   Unnamed: 0  patient_id         drugName                     condition  \\\n",
       "0           0      163740      Mirtazapine                    depression   \n",
       "1           1      206473       Mesalamine  crohn's disease, maintenance   \n",
       "2           2       39293         Contrave                   weight loss   \n",
       "3           3       97768  Cyclafem 1 / 35                 birth control   \n",
       "4           4      208087          Zyclara                     keratosis   \n",
       "\n",
       "                                              review  rating  \\\n",
       "0  \"i've tried a few antidepressants over the yea...    10.0   \n",
       "1  \"my son has crohn's disease and has done very ...     8.0   \n",
       "2  \"contrave combines drugs that were used for al...     9.0   \n",
       "3  \"i have been on this birth control for one cyc...     9.0   \n",
       "4  \"4 days in on first 2 weeks.  using on arms an...     4.0   \n",
       "\n",
       "                date  usefulCount  review_length  \n",
       "0  February 28, 2012           22             68  \n",
       "1       May 17, 2009           17             48  \n",
       "2      March 5, 2017           35            143  \n",
       "3   October 22, 2015            4            149  \n",
       "4       July 3, 2014           13             60  "
      ]
     },
     "execution_count": 6,
     "metadata": {},
     "output_type": "execute_result"
    }
   ],
   "source": [
    "# checking test dataframe\n",
    "test_df.head()"
   ]
  },
  {
   "cell_type": "code",
   "execution_count": 7,
   "metadata": {},
   "outputs": [
    {
     "name": "stdout",
     "output_type": "stream",
     "text": [
      "Train data shape: (110811, 9)\n",
      "Validation data shape: (27703, 9)\n",
      "Test data shape: (46108, 9)\n"
     ]
    }
   ],
   "source": [
    "# getting the shapes of the dataframes\n",
    "\n",
    "print(f\"Train data shape: {train_df.shape}\\nValidation data shape: {valid_df.shape}\\nTest data shape: {test_df.shape}\")"
   ]
  },
  {
   "cell_type": "markdown",
   "metadata": {},
   "source": [
    "## 3. Exploratory Data Analysis"
   ]
  },
  {
   "cell_type": "markdown",
   "metadata": {},
   "source": [
    "Before going on creating and training a model, some data analysis is performed. First of all, we'll check if there is something missing data in the imported files."
   ]
  },
  {
   "cell_type": "code",
   "execution_count": 8,
   "metadata": {},
   "outputs": [
    {
     "name": "stdout",
     "output_type": "stream",
     "text": [
      "Number of null reviews in training set: 0\n",
      "Number of null reviews in validation set: 0\n",
      "Number of null reviews in test set: 0\n",
      "Number of null ratings in training set: 0\n",
      "Number of null ratings in validation set: 0\n",
      "Number of null ratings in test set: 0\n"
     ]
    }
   ],
   "source": [
    "# Checking if relevant columns contain null values\n",
    "\n",
    "print(\"Number of null reviews in training set:\", train_df['review'].isnull().sum())\n",
    "print(\"Number of null reviews in validation set:\", valid_df['review'].isnull().sum())\n",
    "print(\"Number of null reviews in test set:\", test_df['review'].isnull().sum())\n",
    "\n",
    "print(\"Number of null ratings in training set:\", train_df['rating'].isnull().sum())\n",
    "print(\"Number of null ratings in validation set:\", valid_df['rating'].isnull().sum())\n",
    "print(\"Number of null ratings in test set:\", test_df['rating'].isnull().sum())"
   ]
  },
  {
   "cell_type": "markdown",
   "metadata": {},
   "source": [
    "Then, we'll check the data distribution according to the rating and the number of words per review."
   ]
  },
  {
   "cell_type": "code",
   "execution_count": 9,
   "metadata": {},
   "outputs": [
    {
     "data": {
      "image/png": "[encoded data removed]",
      "text/plain": [
       "<Figure size 640x480 with 1 Axes>"
      ]
     },
     "metadata": {},
     "output_type": "display_data"
    }
   ],
   "source": [
    "balance = pd.DataFrame(train_df[\"rating\"].value_counts())\n",
    "sns.barplot(balance, x = balance.index, y = \"count\")\n",
    "plt.xlabel(\"Rating\")\n",
    "plt.ylabel(\"Number of occurrences\")\n",
    "plt.title(\"Distribution of number of values per rating in training set\")\n",
    "plt.show()"
   ]
  },
  {
   "cell_type": "code",
   "execution_count": 10,
   "metadata": {},
   "outputs": [
    {
     "data": {
      "image/png": "[encoded data removed]",
      "text/plain": [
       "<Figure size 640x480 with 1 Axes>"
      ]
     },
     "metadata": {},
     "output_type": "display_data"
    }
   ],
   "source": [
    "balance = pd.DataFrame(valid_df[\"rating\"].value_counts())\n",
    "sns.barplot(balance, x = balance.index, y = \"count\")\n",
    "plt.xlabel(\"Rating\")\n",
    "plt.ylabel(\"Number of occurrences\")\n",
    "plt.title(\"Distribution of number of values per rating in validation set\")\n",
    "plt.show()"
   ]
  },
  {
   "cell_type": "code",
   "execution_count": 11,
   "metadata": {},
   "outputs": [
    {
     "data": {
      "image/png": "[encoded data removed]",
      "text/plain": [
       "<Figure size 640x480 with 1 Axes>"
      ]
     },
     "metadata": {},
     "output_type": "display_data"
    }
   ],
   "source": [
    "balance = pd.DataFrame(test_df[\"rating\"].value_counts())\n",
    "sns.barplot(balance, x = balance.index, y = \"count\")\n",
    "plt.xlabel(\"Rating\")\n",
    "plt.ylabel(\"Number of occurrences\")\n",
    "plt.title(\"Distribution of number of values per rating in test set\")\n",
    "plt.show()"
   ]
  },
  {
   "cell_type": "code",
   "execution_count": 12,
   "metadata": {},
   "outputs": [
    {
     "data": {
      "image/png": "[encoded data removed]",
      "text/plain": [
       "<Figure size 640x480 with 1 Axes>"
      ]
     },
     "metadata": {},
     "output_type": "display_data"
    }
   ],
   "source": [
    "plt.hist(train_df[\"review_length\"].values, bins = 300)\n",
    "plt.xlabel(\"Number of words\")\n",
    "plt.ylabel(\"Number of occurrences\")\n",
    "plt.title(\"Distribution of number of values per number of words in training set\")\n",
    "plt.xlim(0, 200)\n",
    "plt.show()"
   ]
  },
  {
   "cell_type": "code",
   "execution_count": 13,
   "metadata": {},
   "outputs": [
    {
     "data": {
      "image/png": "[encoded data removed]",
      "text/plain": [
       "<Figure size 640x480 with 1 Axes>"
      ]
     },
     "metadata": {},
     "output_type": "display_data"
    }
   ],
   "source": [
    "plt.hist(valid_df[\"review_length\"].values, bins = 300)\n",
    "plt.xlabel(\"Number of words\")\n",
    "plt.ylabel(\"Number of occurrences\")\n",
    "plt.title(\"Distribution of number of values per number of words in validation set\")\n",
    "plt.xlim(0, 200)\n",
    "plt.show()"
   ]
  },
  {
   "cell_type": "code",
   "execution_count": 14,
   "metadata": {},
   "outputs": [
    {
     "data": {
      "image/png": "[encoded data removed]",
      "text/plain": [
       "<Figure size 640x480 with 1 Axes>"
      ]
     },
     "metadata": {},
     "output_type": "display_data"
    }
   ],
   "source": [
    "plt.hist(test_df[\"review_length\"].values, bins = 300)\n",
    "plt.xlabel(\"Number of words\")\n",
    "plt.ylabel(\"Number of occurrences\")\n",
    "plt.title(\"Distribution of number of values per number of words in test set\")\n",
    "plt.xlim(0, 200)\n",
    "plt.show()"
   ]
  },
  {
   "cell_type": "markdown",
   "metadata": {},
   "source": [
    "As noticed in the graphs, the training, validation and test sets have the same distribution regarding rating and number of words per review. Also, both rating and review columns have no empty values, which means there are no rows to eliminate from this criteria."
   ]
  },
  {
   "cell_type": "markdown",
   "metadata": {},
   "source": [
    "### 4. Processing the data"
   ]
  },
  {
   "cell_type": "markdown",
   "metadata": {},
   "source": [
    "After loading the data and exploring it, we proceed with the data preparation. At first, let's select the relevant columns for our project."
   ]
  },
  {
   "cell_type": "code",
   "execution_count": 15,
   "metadata": {},
   "outputs": [],
   "source": [
    "selected_columns = [\"patient_id\", \"drugName\", \"review\", \"rating\", \"date\"]\n",
    "train_df = train_df[selected_columns]\n",
    "valid_df = valid_df[selected_columns]\n",
    "test_df = test_df[selected_columns]"
   ]
  },
  {
   "cell_type": "code",
   "execution_count": 16,
   "metadata": {},
   "outputs": [
    {
     "data": {
      "text/html": [
       "<div>\n",
       "<style scoped>\n",
       "    .dataframe tbody tr th:only-of-type {\n",
       "        vertical-align: middle;\n",
       "    }\n",
       "\n",
       "    .dataframe tbody tr th {\n",
       "        vertical-align: top;\n",
       "    }\n",
       "\n",
       "    .dataframe thead th {\n",
       "        text-align: right;\n",
       "    }\n",
       "</style>\n",
       "<table border=\"1\" class=\"dataframe\">\n",
       "  <thead>\n",
       "    <tr style=\"text-align: right;\">\n",
       "      <th></th>\n",
       "      <th>patient_id</th>\n",
       "      <th>drugName</th>\n",
       "      <th>review</th>\n",
       "      <th>rating</th>\n",
       "      <th>date</th>\n",
       "    </tr>\n",
       "  </thead>\n",
       "  <tbody>\n",
       "    <tr>\n",
       "      <th>0</th>\n",
       "      <td>89879</td>\n",
       "      <td>Cyclosporine</td>\n",
       "      <td>\"i have used restasis for about a year now and...</td>\n",
       "      <td>2.0</td>\n",
       "      <td>April 20, 2013</td>\n",
       "    </tr>\n",
       "    <tr>\n",
       "      <th>1</th>\n",
       "      <td>143975</td>\n",
       "      <td>Etonogestrel</td>\n",
       "      <td>\"my experience has been somewhat mixed. i have...</td>\n",
       "      <td>7.0</td>\n",
       "      <td>August 7, 2016</td>\n",
       "    </tr>\n",
       "    <tr>\n",
       "      <th>2</th>\n",
       "      <td>106473</td>\n",
       "      <td>Implanon</td>\n",
       "      <td>\"this is my second implanon would not recommen...</td>\n",
       "      <td>1.0</td>\n",
       "      <td>May 11, 2016</td>\n",
       "    </tr>\n",
       "    <tr>\n",
       "      <th>3</th>\n",
       "      <td>184526</td>\n",
       "      <td>Hydroxyzine</td>\n",
       "      <td>\"i recommend taking as prescribed, and the bot...</td>\n",
       "      <td>10.0</td>\n",
       "      <td>March 19, 2012</td>\n",
       "    </tr>\n",
       "    <tr>\n",
       "      <th>4</th>\n",
       "      <td>91587</td>\n",
       "      <td>Dalfampridine</td>\n",
       "      <td>\"i have been on ampyra for 5 days and have bee...</td>\n",
       "      <td>9.0</td>\n",
       "      <td>August 1, 2010</td>\n",
       "    </tr>\n",
       "  </tbody>\n",
       "</table>\n",
       "</div>"
      ],
      "text/plain": [
       "   patient_id       drugName  \\\n",
       "0       89879   Cyclosporine   \n",
       "1      143975   Etonogestrel   \n",
       "2      106473       Implanon   \n",
       "3      184526    Hydroxyzine   \n",
       "4       91587  Dalfampridine   \n",
       "\n",
       "                                              review  rating            date  \n",
       "0  \"i have used restasis for about a year now and...     2.0  April 20, 2013  \n",
       "1  \"my experience has been somewhat mixed. i have...     7.0  August 7, 2016  \n",
       "2  \"this is my second implanon would not recommen...     1.0    May 11, 2016  \n",
       "3  \"i recommend taking as prescribed, and the bot...    10.0  March 19, 2012  \n",
       "4  \"i have been on ampyra for 5 days and have bee...     9.0  August 1, 2010  "
      ]
     },
     "execution_count": 16,
     "metadata": {},
     "output_type": "execute_result"
    }
   ],
   "source": [
    "train_df.head()"
   ]
  },
  {
   "cell_type": "code",
   "execution_count": 17,
   "metadata": {},
   "outputs": [
    {
     "data": {
      "text/html": [
       "<div>\n",
       "<style scoped>\n",
       "    .dataframe tbody tr th:only-of-type {\n",
       "        vertical-align: middle;\n",
       "    }\n",
       "\n",
       "    .dataframe tbody tr th {\n",
       "        vertical-align: top;\n",
       "    }\n",
       "\n",
       "    .dataframe thead th {\n",
       "        text-align: right;\n",
       "    }\n",
       "</style>\n",
       "<table border=\"1\" class=\"dataframe\">\n",
       "  <thead>\n",
       "    <tr style=\"text-align: right;\">\n",
       "      <th></th>\n",
       "      <th>patient_id</th>\n",
       "      <th>drugName</th>\n",
       "      <th>review</th>\n",
       "      <th>rating</th>\n",
       "      <th>date</th>\n",
       "    </tr>\n",
       "  </thead>\n",
       "  <tbody>\n",
       "    <tr>\n",
       "      <th>0</th>\n",
       "      <td>191114</td>\n",
       "      <td>Campral</td>\n",
       "      <td>\"sober a year 8-25-11. god, aa and campral hav...</td>\n",
       "      <td>10.0</td>\n",
       "      <td>September 3, 2011</td>\n",
       "    </tr>\n",
       "    <tr>\n",
       "      <th>1</th>\n",
       "      <td>142693</td>\n",
       "      <td>Levonorgestrel</td>\n",
       "      <td>\"i've been on birth control for a while now du...</td>\n",
       "      <td>4.0</td>\n",
       "      <td>August 9, 2017</td>\n",
       "    </tr>\n",
       "    <tr>\n",
       "      <th>2</th>\n",
       "      <td>71561</td>\n",
       "      <td>Vraylar</td>\n",
       "      <td>\"hi, this is an updated experience. \\r\\r\\n\\r\\r...</td>\n",
       "      <td>8.0</td>\n",
       "      <td>August 16, 2016</td>\n",
       "    </tr>\n",
       "    <tr>\n",
       "      <th>3</th>\n",
       "      <td>25765</td>\n",
       "      <td>Ethinyl estradiol / norelgestromin</td>\n",
       "      <td>\"i have been on the ortho evra patch for just ...</td>\n",
       "      <td>8.0</td>\n",
       "      <td>September 15, 2013</td>\n",
       "    </tr>\n",
       "    <tr>\n",
       "      <th>4</th>\n",
       "      <td>12843</td>\n",
       "      <td>Etanercept</td>\n",
       "      <td>\"i have been on enbrel for 7 years and i have ...</td>\n",
       "      <td>9.0</td>\n",
       "      <td>August 5, 2010</td>\n",
       "    </tr>\n",
       "  </tbody>\n",
       "</table>\n",
       "</div>"
      ],
      "text/plain": [
       "   patient_id                            drugName  \\\n",
       "0      191114                             Campral   \n",
       "1      142693                      Levonorgestrel   \n",
       "2       71561                             Vraylar   \n",
       "3       25765  Ethinyl estradiol / norelgestromin   \n",
       "4       12843                          Etanercept   \n",
       "\n",
       "                                              review  rating  \\\n",
       "0  \"sober a year 8-25-11. god, aa and campral hav...    10.0   \n",
       "1  \"i've been on birth control for a while now du...     4.0   \n",
       "2  \"hi, this is an updated experience. \\r\\r\\n\\r\\r...     8.0   \n",
       "3  \"i have been on the ortho evra patch for just ...     8.0   \n",
       "4  \"i have been on enbrel for 7 years and i have ...     9.0   \n",
       "\n",
       "                 date  \n",
       "0   September 3, 2011  \n",
       "1      August 9, 2017  \n",
       "2     August 16, 2016  \n",
       "3  September 15, 2013  \n",
       "4      August 5, 2010  "
      ]
     },
     "execution_count": 17,
     "metadata": {},
     "output_type": "execute_result"
    }
   ],
   "source": [
    "valid_df.head()"
   ]
  },
  {
   "cell_type": "code",
   "execution_count": 18,
   "metadata": {},
   "outputs": [
    {
     "data": {
      "text/html": [
       "<div>\n",
       "<style scoped>\n",
       "    .dataframe tbody tr th:only-of-type {\n",
       "        vertical-align: middle;\n",
       "    }\n",
       "\n",
       "    .dataframe tbody tr th {\n",
       "        vertical-align: top;\n",
       "    }\n",
       "\n",
       "    .dataframe thead th {\n",
       "        text-align: right;\n",
       "    }\n",
       "</style>\n",
       "<table border=\"1\" class=\"dataframe\">\n",
       "  <thead>\n",
       "    <tr style=\"text-align: right;\">\n",
       "      <th></th>\n",
       "      <th>patient_id</th>\n",
       "      <th>drugName</th>\n",
       "      <th>review</th>\n",
       "      <th>rating</th>\n",
       "      <th>date</th>\n",
       "    </tr>\n",
       "  </thead>\n",
       "  <tbody>\n",
       "    <tr>\n",
       "      <th>0</th>\n",
       "      <td>163740</td>\n",
       "      <td>Mirtazapine</td>\n",
       "      <td>\"i've tried a few antidepressants over the yea...</td>\n",
       "      <td>10.0</td>\n",
       "      <td>February 28, 2012</td>\n",
       "    </tr>\n",
       "    <tr>\n",
       "      <th>1</th>\n",
       "      <td>206473</td>\n",
       "      <td>Mesalamine</td>\n",
       "      <td>\"my son has crohn's disease and has done very ...</td>\n",
       "      <td>8.0</td>\n",
       "      <td>May 17, 2009</td>\n",
       "    </tr>\n",
       "    <tr>\n",
       "      <th>2</th>\n",
       "      <td>39293</td>\n",
       "      <td>Contrave</td>\n",
       "      <td>\"contrave combines drugs that were used for al...</td>\n",
       "      <td>9.0</td>\n",
       "      <td>March 5, 2017</td>\n",
       "    </tr>\n",
       "    <tr>\n",
       "      <th>3</th>\n",
       "      <td>97768</td>\n",
       "      <td>Cyclafem 1 / 35</td>\n",
       "      <td>\"i have been on this birth control for one cyc...</td>\n",
       "      <td>9.0</td>\n",
       "      <td>October 22, 2015</td>\n",
       "    </tr>\n",
       "    <tr>\n",
       "      <th>4</th>\n",
       "      <td>208087</td>\n",
       "      <td>Zyclara</td>\n",
       "      <td>\"4 days in on first 2 weeks.  using on arms an...</td>\n",
       "      <td>4.0</td>\n",
       "      <td>July 3, 2014</td>\n",
       "    </tr>\n",
       "  </tbody>\n",
       "</table>\n",
       "</div>"
      ],
      "text/plain": [
       "   patient_id         drugName  \\\n",
       "0      163740      Mirtazapine   \n",
       "1      206473       Mesalamine   \n",
       "2       39293         Contrave   \n",
       "3       97768  Cyclafem 1 / 35   \n",
       "4      208087          Zyclara   \n",
       "\n",
       "                                              review  rating  \\\n",
       "0  \"i've tried a few antidepressants over the yea...    10.0   \n",
       "1  \"my son has crohn's disease and has done very ...     8.0   \n",
       "2  \"contrave combines drugs that were used for al...     9.0   \n",
       "3  \"i have been on this birth control for one cyc...     9.0   \n",
       "4  \"4 days in on first 2 weeks.  using on arms an...     4.0   \n",
       "\n",
       "                date  \n",
       "0  February 28, 2012  \n",
       "1       May 17, 2009  \n",
       "2      March 5, 2017  \n",
       "3   October 22, 2015  \n",
       "4       July 3, 2014  "
      ]
     },
     "execution_count": 18,
     "metadata": {},
     "output_type": "execute_result"
    }
   ],
   "source": [
    "test_df.head()"
   ]
  },
  {
   "cell_type": "markdown",
   "metadata": {},
   "source": [
    "Then, we start processing the text column so that it can be used in the model. Let's begin with removing special characters, like tabs or new lines. We'll also remove the digits:"
   ]
  },
  {
   "cell_type": "code",
   "execution_count": 19,
   "metadata": {},
   "outputs": [],
   "source": [
    "remove_special_chars = lambda x: re.sub(r\"\\\\.\", \"\", str(x))\n",
    "train_df.review = train_df.review.apply(remove_special_chars)\n",
    "valid_df.review = valid_df.review.apply(remove_special_chars)\n",
    "test_df.review = test_df.review.apply(remove_special_chars)"
   ]
  },
  {
   "cell_type": "code",
   "execution_count": 20,
   "metadata": {},
   "outputs": [],
   "source": [
    "remove_digits = lambda x: re.sub(r\"[0-9]\", \"\", str(x))\n",
    "train_df.review = train_df.review.apply(remove_digits)\n",
    "valid_df.review = valid_df.review.apply(remove_digits)\n",
    "test_df.review = test_df.review.apply(remove_digits)"
   ]
  },
  {
   "cell_type": "code",
   "execution_count": 8,
   "metadata": {},
   "outputs": [
    {
     "data": {
      "text/plain": [
       "0         \"i have used restasis for about a year now and...\n",
       "1         \"my experience has been somewhat mixed. i have...\n",
       "2         \"this is my second implanon would not recommen...\n",
       "3         \"i recommend taking as prescribed, and the bot...\n",
       "4         \"i have been on ampyra for  days and have been...\n",
       "                                ...                        \n",
       "110806    \"i had tried many medications to level out my ...\n",
       "110807    \"had partial thyroid removal with benign tumor...\n",
       "110808    \"my experience with risperdal started when i f...\n",
       "110809    \"my elderly dad was prescribed a low dose of a...\n",
       "110810    \"latuda has been a hero in my battle against s...\n",
       "Name: review, Length: 110811, dtype: object"
      ]
     },
     "execution_count": 8,
     "metadata": {},
     "output_type": "execute_result"
    }
   ],
   "source": [
    "# verifying training reviews\n",
    "train_df.review"
   ]
  },
  {
   "cell_type": "code",
   "execution_count": 9,
   "metadata": {},
   "outputs": [
    {
     "data": {
      "text/plain": [
       "0        \"sober a year --. god, aa and campral have wor...\n",
       "1        \"i've been on birth control for a while now du...\n",
       "2        \"hi, this is an updated experience. \\r\\r\\n\\r\\r...\n",
       "3        \"i have been on the ortho evra patch for just ...\n",
       "4        \"i have been on enbrel for  years and i have t...\n",
       "                               ...                        \n",
       "27698    \"after my first and only shot, ten days after ...\n",
       "27699    \"i have been on velivet for about a year. it h...\n",
       "27700    \"i have been taking zarah for almost  months. ...\n",
       "27701    \"i had my first seizure february  and was pres...\n",
       "27702    \"i've been on aviane for about  weeks. i'm on ...\n",
       "Name: review, Length: 27703, dtype: object"
      ]
     },
     "execution_count": 9,
     "metadata": {},
     "output_type": "execute_result"
    }
   ],
   "source": [
    "# verifying validation reviews\n",
    "valid_df.review"
   ]
  },
  {
   "cell_type": "code",
   "execution_count": 10,
   "metadata": {},
   "outputs": [
    {
     "data": {
      "text/plain": [
       "0        \"i've tried a few antidepressants over the yea...\n",
       "1        \"my son has crohn's disease and has done very ...\n",
       "2        \"contrave combines drugs that were used for al...\n",
       "3        \"i have been on this birth control for one cyc...\n",
       "4        \" days in on first  weeks.  using on arms and ...\n",
       "                               ...                        \n",
       "46103    \"i started taking apri about  months ago. my b...\n",
       "46104    \"i have taken tamoxifen for  years. side effec...\n",
       "46105    \"i've been taking lexapro (escitaploprgram) si...\n",
       "46106    \"i'm married,  years old and i have no kids. t...\n",
       "46107    \"i was prescribed nucynta for severe neck/shou...\n",
       "Name: review, Length: 46108, dtype: object"
      ]
     },
     "execution_count": 10,
     "metadata": {},
     "output_type": "execute_result"
    }
   ],
   "source": [
    "# verifying test reviews\n",
    "test_df.review"
   ]
  },
  {
   "cell_type": "markdown",
   "metadata": {},
   "source": [
    "We then convert all characters to lowercase and remove any punctuation:"
   ]
  },
  {
   "cell_type": "code",
   "execution_count": 21,
   "metadata": {},
   "outputs": [],
   "source": [
    "# converting all characters to lowercase\n",
    "to_lower = lambda x: x.lower()\n",
    "train_df.review = train_df.review.apply(to_lower)\n",
    "valid_df.review = valid_df.review.apply(to_lower)\n",
    "test_df.review = test_df.review.apply(to_lower)\n",
    "\n",
    "# removing puncuation\n",
    "remove_puncs = lambda x: x.translate(str.maketrans(\"\", \"\", string.punctuation))\n",
    "train_df.review = train_df.review.apply(remove_puncs)\n",
    "valid_df.review = valid_df.review.apply(remove_puncs)\n",
    "test_df.review = test_df.review.apply(remove_puncs)"
   ]
  },
  {
   "cell_type": "code",
   "execution_count": 22,
   "metadata": {},
   "outputs": [
    {
     "data": {
      "text/plain": [
       "0         i have used restasis for about a year now and ...\n",
       "1         my experience has been somewhat mixed i have b...\n",
       "2         this is my second implanon would not recommend...\n",
       "3         i recommend taking as prescribed and the bottl...\n",
       "4         i have been on ampyra for  days and have been ...\n",
       "                                ...                        \n",
       "110806    i had tried many medications to level out my b...\n",
       "110807    had partial thyroid removal with benign tumor ...\n",
       "110808    my experience with risperdal started when i fi...\n",
       "110809    my elderly dad was prescribed a low dose of at...\n",
       "110810    latuda has been a hero in my battle against sc...\n",
       "Name: review, Length: 110811, dtype: object"
      ]
     },
     "execution_count": 22,
     "metadata": {},
     "output_type": "execute_result"
    }
   ],
   "source": [
    "# verifying training reviews\n",
    "train_df.review"
   ]
  },
  {
   "cell_type": "code",
   "execution_count": 23,
   "metadata": {},
   "outputs": [
    {
     "data": {
      "text/plain": [
       "0        sober a year  god aa and campral have worked n...\n",
       "1        ive been on birth control for a while now due ...\n",
       "2        hi this is an updated experience \\r\\r\\n\\r\\r\\ni...\n",
       "3        i have been on the ortho evra patch for just o...\n",
       "4        i have been on enbrel for  years and i have to...\n",
       "                               ...                        \n",
       "27698    after my first and only shot ten days after i ...\n",
       "27699    i have been on velivet for about a year it has...\n",
       "27700    i have been taking zarah for almost  months i ...\n",
       "27701    i had my first seizure february  and was presc...\n",
       "27702    ive been on aviane for about  weeks im on my t...\n",
       "Name: review, Length: 27703, dtype: object"
      ]
     },
     "execution_count": 23,
     "metadata": {},
     "output_type": "execute_result"
    }
   ],
   "source": [
    "# verifying validation reviews\n",
    "valid_df.review"
   ]
  },
  {
   "cell_type": "code",
   "execution_count": 24,
   "metadata": {},
   "outputs": [
    {
     "data": {
      "text/plain": [
       "0        ive tried a few antidepressants over the years...\n",
       "1        my son has crohns disease and has done very we...\n",
       "2        contrave combines drugs that were used for alc...\n",
       "3        i have been on this birth control for one cycl...\n",
       "4         days in on first  weeks  using on arms and fa...\n",
       "                               ...                        \n",
       "46103    i started taking apri about  months ago my bre...\n",
       "46104    i have taken tamoxifen for  years side effects...\n",
       "46105    ive been taking lexapro escitaploprgram since ...\n",
       "46106    im married  years old and i have no kids takin...\n",
       "46107    i was prescribed nucynta for severe neckshould...\n",
       "Name: review, Length: 46108, dtype: object"
      ]
     },
     "execution_count": 24,
     "metadata": {},
     "output_type": "execute_result"
    }
   ],
   "source": [
    "# verifying test reviews\n",
    "test_df.review"
   ]
  },
  {
   "cell_type": "markdown",
   "metadata": {},
   "source": [
    "Finally, we remove the stop words and lemmatise each term:"
   ]
  },
  {
   "cell_type": "code",
   "execution_count": 22,
   "metadata": {},
   "outputs": [],
   "source": [
    "stop_words = set(stopwords.words(\"English\"))\n",
    "\n",
    "remove_words = lambda x: \" \".join([word for word in x.split() if word not in stop_words])\n",
    "train_df.review = train_df.review.apply(remove_words)\n",
    "valid_df.review = valid_df.review.apply(remove_words)\n",
    "test_df.review = test_df.review.apply(remove_words)"
   ]
  },
  {
   "cell_type": "code",
   "execution_count": 24,
   "metadata": {},
   "outputs": [
    {
     "data": {
      "text/plain": [
       "0         used restasis year seen almost progress life i...\n",
       "1         experience somewhat mixed using implanon nearl...\n",
       "2         second implanon would recommend allfirst one o...\n",
       "3         recommend taking prescribed bottle usually say...\n",
       "4         ampyra days happy new pill first days good sid...\n",
       "                                ...                        \n",
       "110806    tried many medications level bipolar disorder ...\n",
       "110807    partial thyroid removal benign tumor years ago...\n",
       "110808    experience risperdal started first started see...\n",
       "110809    elderly dad prescribed low dose ativan anxiety...\n",
       "110810    latuda hero battle schizophrenia aside take fo...\n",
       "Name: review, Length: 110811, dtype: object"
      ]
     },
     "execution_count": 24,
     "metadata": {},
     "output_type": "execute_result"
    }
   ],
   "source": [
    "# verifying training reviews\n",
    "train_df.review"
   ]
  },
  {
   "cell_type": "code",
   "execution_count": 25,
   "metadata": {},
   "outputs": [
    {
     "data": {
      "text/plain": [
       "0        sober year god aa campral worked cravings coul...\n",
       "1        ive birth control due horrendous cramps excess...\n",
       "2        hi updated experience vraylar months side effe...\n",
       "3        ortho evra patch month first applied patch sma...\n",
       "4        enbrel years tell awesome able things never th...\n",
       "                               ...                        \n",
       "27698    first shot ten days broke rash head toe intere...\n",
       "27699    velivet year better birth control ortho tricyc...\n",
       "27700    taking zarah almost months polycystic ovarian ...\n",
       "27701    first seizure february prescribed keppra took ...\n",
       "27702    ive aviane weeks im th week th pill noticed mo...\n",
       "Name: review, Length: 27703, dtype: object"
      ]
     },
     "execution_count": 25,
     "metadata": {},
     "output_type": "execute_result"
    }
   ],
   "source": [
    "# verifying validation reviews\n",
    "valid_df.review"
   ]
  },
  {
   "cell_type": "code",
   "execution_count": 26,
   "metadata": {},
   "outputs": [
    {
     "data": {
      "text/plain": [
       "0        ive tried antidepressants years citalopram flu...\n",
       "1        son crohns disease done well asacol complaints...\n",
       "2        contrave combines drugs used alcohol smoking o...\n",
       "3        birth control one cycle reading reviews type s...\n",
       "4        days first weeks using arms face put vaseline ...\n",
       "                               ...                        \n",
       "46103    started taking apri months ago breats got noti...\n",
       "46104    taken tamoxifen years side effects severe swea...\n",
       "46105    ive taking lexapro escitaploprgram since febru...\n",
       "46106    im married years old kids taking pill hassle d...\n",
       "46107    prescribed nucynta severe neckshoulder pain ta...\n",
       "Name: review, Length: 46108, dtype: object"
      ]
     },
     "execution_count": 26,
     "metadata": {},
     "output_type": "execute_result"
    }
   ],
   "source": [
    "# verifying test reviews\n",
    "test_df.review"
   ]
  },
  {
   "cell_type": "code",
   "execution_count": 23,
   "metadata": {},
   "outputs": [],
   "source": [
    "# lemmatising each word in all sentences\n",
    "\n",
    "lemmatiser = WordNetLemmatizer()\n",
    "\n",
    "lemmatise = lambda x: \" \".join([lemmatiser.lemmatize(word) for word in x.split()])\n",
    "train_df.review = train_df.review.apply(lemmatise)\n",
    "valid_df.review = valid_df.review.apply(lemmatise)\n",
    "test_df.review = test_df.review.apply(lemmatise)\n"
   ]
  },
  {
   "cell_type": "code",
   "execution_count": 20,
   "metadata": {},
   "outputs": [
    {
     "data": {
      "text/plain": [
       "0         used restasis year seen almost progress life i...\n",
       "1         experience somewhat mixed using implanon nearl...\n",
       "2         second implanon would recommend allfirst one o...\n",
       "3         recommend taking prescribed bottle usually say...\n",
       "4         ampyra day happy new pill first day good side ...\n",
       "                                ...                        \n",
       "110806    tried many medication level bipolar disorder r...\n",
       "110807    partial thyroid removal benign tumor year ago ...\n",
       "110808    experience risperdal started first started see...\n",
       "110809    elderly dad prescribed low dose ativan anxiety...\n",
       "110810    latuda hero battle schizophrenia aside take fo...\n",
       "Name: review, Length: 110811, dtype: object"
      ]
     },
     "execution_count": 20,
     "metadata": {},
     "output_type": "execute_result"
    }
   ],
   "source": [
    "train_df.review"
   ]
  },
  {
   "cell_type": "code",
   "execution_count": 29,
   "metadata": {},
   "outputs": [
    {
     "data": {
      "text/plain": [
       "(27103, 5)"
      ]
     },
     "execution_count": 29,
     "metadata": {},
     "output_type": "execute_result"
    }
   ],
   "source": [
    "train_df[train_df[\"rating\"] < 5].shape"
   ]
  },
  {
   "cell_type": "markdown",
   "metadata": {},
   "source": [
    "## 5. Model Training and Evaluation"
   ]
  },
  {
   "cell_type": "markdown",
   "metadata": {},
   "source": [
    "After testing different ways of training a sentiment analysis model, the chosen one was the LSTM based model. For that, first of all, we tokenise and pad the training, validation, and test sets:"
   ]
  },
  {
   "cell_type": "code",
   "execution_count": 24,
   "metadata": {},
   "outputs": [],
   "source": [
    "# creating bias variable to support in dealing with data imbalance\n",
    "\n",
    "bias = train_df[train_df[\"rating\"] <= 5].shape[0] / train_df[train_df[\"rating\"] > 5].shape[0]"
   ]
  },
  {
   "cell_type": "code",
   "execution_count": 46,
   "metadata": {},
   "outputs": [],
   "source": [
    "# tokenisation\n",
    "\n",
    "tokeniser = Tokenizer(num_words=800, split=' ')\n",
    "tokeniser.fit_on_texts(train_df[\"review\"].values)\n",
    "x_train = tokeniser.texts_to_sequences(train_df[\"review\"].values)\n",
    "x_train = pad_sequences(x_train)\n",
    "x_valid = tokeniser.texts_to_sequences(valid_df[\"review\"].values)\n",
    "x_valid = pad_sequences(x_valid)\n",
    "x_test = tokeniser.texts_to_sequences(test_df[\"review\"].values)\n",
    "x_test = pad_sequences(x_test)\n",
    "\n",
    "aux_func = lambda x: 1 if x > 5 else 0 #-1 if x < 5 else (1 if x > 5 else 0)\n",
    "\n",
    "y_train = train_df[\"rating\"].apply(aux_func)\n",
    "y_valid = valid_df[\"rating\"].apply(aux_func)\n",
    "y_test = test_df[\"rating\"].apply(aux_func)"
   ]
  },
  {
   "cell_type": "markdown",
   "metadata": {},
   "source": [
    "Then, we'll build the model using Keras."
   ]
  },
  {
   "cell_type": "code",
   "execution_count": 29,
   "metadata": {},
   "outputs": [
    {
     "name": "stderr",
     "output_type": "stream",
     "text": [
      "c:\\Users\\chris\\anaconda3\\envs\\NLPEnv\\Lib\\site-packages\\keras\\src\\layers\\core\\embedding.py:90: UserWarning: Argument `input_length` is deprecated. Just remove it.\n",
      "  warnings.warn(\n"
     ]
    },
    {
     "data": {
      "text/html": [
       "<pre style=\"white-space:pre;overflow-x:auto;line-height:normal;font-family:Menlo,'DejaVu Sans Mono',consolas,'Courier New',monospace\"><span style=\"font-weight: bold\">Model: \"sequential\"</span>\n",
       "</pre>\n"
      ],
      "text/plain": [
       "\u001b[1mModel: \"sequential\"\u001b[0m\n"
      ]
     },
     "metadata": {},
     "output_type": "display_data"
    },
    {
     "data": {
      "text/html": [
       "<pre style=\"white-space:pre;overflow-x:auto;line-height:normal;font-family:Menlo,'DejaVu Sans Mono',consolas,'Courier New',monospace\">┏━━━━━━━━━━━━━━━━━━━━━━━━━━━━━━━━━┳━━━━━━━━━━━━━━━━━━━━━━━━┳━━━━━━━━━━━━━━━┓\n",
       "┃<span style=\"font-weight: bold\"> Layer (type)                    </span>┃<span style=\"font-weight: bold\"> Output Shape           </span>┃<span style=\"font-weight: bold\">       Param # </span>┃\n",
       "┡━━━━━━━━━━━━━━━━━━━━━━━━━━━━━━━━━╇━━━━━━━━━━━━━━━━━━━━━━━━╇━━━━━━━━━━━━━━━┩\n",
       "│ embedding (<span style=\"color: #0087ff; text-decoration-color: #0087ff\">Embedding</span>)           │ ?                      │   <span style=\"color: #00af00; text-decoration-color: #00af00\">0</span> (unbuilt) │\n",
       "├─────────────────────────────────┼────────────────────────┼───────────────┤\n",
       "│ spatial_dropout1d               │ ?                      │   <span style=\"color: #00af00; text-decoration-color: #00af00\">0</span> (unbuilt) │\n",
       "│ (<span style=\"color: #0087ff; text-decoration-color: #0087ff\">SpatialDropout1D</span>)              │                        │               │\n",
       "├─────────────────────────────────┼────────────────────────┼───────────────┤\n",
       "│ lstm (<span style=\"color: #0087ff; text-decoration-color: #0087ff\">LSTM</span>)                     │ ?                      │   <span style=\"color: #00af00; text-decoration-color: #00af00\">0</span> (unbuilt) │\n",
       "├─────────────────────────────────┼────────────────────────┼───────────────┤\n",
       "│ dense (<span style=\"color: #0087ff; text-decoration-color: #0087ff\">Dense</span>)                   │ ?                      │   <span style=\"color: #00af00; text-decoration-color: #00af00\">0</span> (unbuilt) │\n",
       "└─────────────────────────────────┴────────────────────────┴───────────────┘\n",
       "</pre>\n"
      ],
      "text/plain": [
       "┏━━━━━━━━━━━━━━━━━━━━━━━━━━━━━━━━━┳━━━━━━━━━━━━━━━━━━━━━━━━┳━━━━━━━━━━━━━━━┓\n",
       "┃\u001b[1m \u001b[0m\u001b[1mLayer (type)                   \u001b[0m\u001b[1m \u001b[0m┃\u001b[1m \u001b[0m\u001b[1mOutput Shape          \u001b[0m\u001b[1m \u001b[0m┃\u001b[1m \u001b[0m\u001b[1m      Param #\u001b[0m\u001b[1m \u001b[0m┃\n",
       "┡━━━━━━━━━━━━━━━━━━━━━━━━━━━━━━━━━╇━━━━━━━━━━━━━━━━━━━━━━━━╇━━━━━━━━━━━━━━━┩\n",
       "│ embedding (\u001b[38;5;33mEmbedding\u001b[0m)           │ ?                      │   \u001b[38;5;34m0\u001b[0m (unbuilt) │\n",
       "├─────────────────────────────────┼────────────────────────┼───────────────┤\n",
       "│ spatial_dropout1d               │ ?                      │   \u001b[38;5;34m0\u001b[0m (unbuilt) │\n",
       "│ (\u001b[38;5;33mSpatialDropout1D\u001b[0m)              │                        │               │\n",
       "├─────────────────────────────────┼────────────────────────┼───────────────┤\n",
       "│ lstm (\u001b[38;5;33mLSTM\u001b[0m)                     │ ?                      │   \u001b[38;5;34m0\u001b[0m (unbuilt) │\n",
       "├─────────────────────────────────┼────────────────────────┼───────────────┤\n",
       "│ dense (\u001b[38;5;33mDense\u001b[0m)                   │ ?                      │   \u001b[38;5;34m0\u001b[0m (unbuilt) │\n",
       "└─────────────────────────────────┴────────────────────────┴───────────────┘\n"
      ]
     },
     "metadata": {},
     "output_type": "display_data"
    },
    {
     "data": {
      "text/html": [
       "<pre style=\"white-space:pre;overflow-x:auto;line-height:normal;font-family:Menlo,'DejaVu Sans Mono',consolas,'Courier New',monospace\"><span style=\"font-weight: bold\"> Total params: </span><span style=\"color: #00af00; text-decoration-color: #00af00\">0</span> (0.00 B)\n",
       "</pre>\n"
      ],
      "text/plain": [
       "\u001b[1m Total params: \u001b[0m\u001b[38;5;34m0\u001b[0m (0.00 B)\n"
      ]
     },
     "metadata": {},
     "output_type": "display_data"
    },
    {
     "data": {
      "text/html": [
       "<pre style=\"white-space:pre;overflow-x:auto;line-height:normal;font-family:Menlo,'DejaVu Sans Mono',consolas,'Courier New',monospace\"><span style=\"font-weight: bold\"> Trainable params: </span><span style=\"color: #00af00; text-decoration-color: #00af00\">0</span> (0.00 B)\n",
       "</pre>\n"
      ],
      "text/plain": [
       "\u001b[1m Trainable params: \u001b[0m\u001b[38;5;34m0\u001b[0m (0.00 B)\n"
      ]
     },
     "metadata": {},
     "output_type": "display_data"
    },
    {
     "data": {
      "text/html": [
       "<pre style=\"white-space:pre;overflow-x:auto;line-height:normal;font-family:Menlo,'DejaVu Sans Mono',consolas,'Courier New',monospace\"><span style=\"font-weight: bold\"> Non-trainable params: </span><span style=\"color: #00af00; text-decoration-color: #00af00\">0</span> (0.00 B)\n",
       "</pre>\n"
      ],
      "text/plain": [
       "\u001b[1m Non-trainable params: \u001b[0m\u001b[38;5;34m0\u001b[0m (0.00 B)\n"
      ]
     },
     "metadata": {},
     "output_type": "display_data"
    },
    {
     "name": "stdout",
     "output_type": "stream",
     "text": [
      "None\n"
     ]
    }
   ],
   "source": [
    "model = Sequential()\n",
    "model.add(Embedding(800, 120, input_length = x_train.shape[1]))\n",
    "model.add(SpatialDropout1D(0.4))\n",
    "model.add(LSTM(176, dropout=0.2, recurrent_dropout=0.2))\n",
    "model.add(Dense(2, activation='softmax'))\n",
    "model.compile(loss = 'categorical_crossentropy', optimizer='adam', metrics = ['accuracy'])\n",
    "print(model.summary())"
   ]
  },
  {
   "cell_type": "markdown",
   "metadata": {},
   "source": [
    "After building and compiling the model, the model is trained. Given each epoch takes around 3 hours using a CPU device (and given current limitations which prevented me of using a GPU), the model was trained on 3 epochs, or 9 hours in total."
   ]
  },
  {
   "cell_type": "code",
   "execution_count": 30,
   "metadata": {},
   "outputs": [
    {
     "name": "stdout",
     "output_type": "stream",
     "text": [
      "Epoch 1/3\n"
     ]
    },
    {
     "name": "stderr",
     "output_type": "stream",
     "text": [
      "c:\\Users\\chris\\anaconda3\\envs\\NLPEnv\\Lib\\site-packages\\tensorflow\\python\\data\\ops\\structured_function.py:258: UserWarning: Even though the `tf.config.experimental_run_functions_eagerly` option is set, this option does not apply to tf.data functions. To force eager execution of tf.data functions, please use `tf.data.experimental.enable_debug_mode()`.\n",
      "  warnings.warn(\n"
     ]
    },
    {
     "name": "stdout",
     "output_type": "stream",
     "text": [
      "\u001b[1m3463/3463\u001b[0m \u001b[32m━━━━━━━━━━━━━━━━━━━━\u001b[0m\u001b[37m\u001b[0m \u001b[1m11199s\u001b[0m 3s/step - accuracy: 0.6555 - loss: 0.9443 - val_accuracy: 0.7635 - val_loss: 0.5033\n",
      "Epoch 2/3\n",
      "\u001b[1m3463/3463\u001b[0m \u001b[32m━━━━━━━━━━━━━━━━━━━━\u001b[0m\u001b[37m\u001b[0m \u001b[1m11489s\u001b[0m 3s/step - accuracy: 0.7369 - loss: 0.8133 - val_accuracy: 0.7498 - val_loss: 0.5058\n",
      "Epoch 3/3\n",
      "\u001b[1m3463/3463\u001b[0m \u001b[32m━━━━━━━━━━━━━━━━━━━━\u001b[0m\u001b[37m\u001b[0m \u001b[1m11497s\u001b[0m 3s/step - accuracy: 0.7504 - loss: 0.7682 - val_accuracy: 0.7626 - val_loss: 0.4919\n"
     ]
    }
   ],
   "source": [
    "# setting batch size and altering target columns\n",
    "y_train = pd.get_dummies(y_train)\n",
    "y_valid = pd.get_dummies(y_valid)\n",
    "batch_size=32\n",
    "\n",
    "# training model\n",
    "tf.config.run_functions_eagerly(True)\n",
    "history = model.fit(x_train, y_train.values, epochs = 3, \n",
    "                    batch_size=batch_size, verbose = 'auto', validation_data = (x_valid, y_valid.values),\n",
    "                    class_weight = {0: 1.6 / bias, 1: 1})"
   ]
  },
  {
   "cell_type": "code",
   "execution_count": 31,
   "metadata": {},
   "outputs": [
    {
     "name": "stderr",
     "output_type": "stream",
     "text": [
      "WARNING:absl:You are saving your model as an HDF5 file via `model.save()` or `keras.saving.save_model(model)`. This file format is considered legacy. We recommend using instead the native Keras format, e.g. `model.save('my_model.keras')` or `keras.saving.save_model(model, 'my_model.keras')`. \n"
     ]
    }
   ],
   "source": [
    "# saving model\n",
    "model.save(\"test_model.h5\")"
   ]
  },
  {
   "cell_type": "markdown",
   "metadata": {},
   "source": [
    "The cell below loads a trained model when it's necessary to save time in the execution of notebook cells. Skip it if you're training the model."
   ]
  },
  {
   "cell_type": "code",
   "execution_count": 26,
   "metadata": {},
   "outputs": [
    {
     "name": "stderr",
     "output_type": "stream",
     "text": [
      "WARNING:absl:Compiled the loaded model, but the compiled metrics have yet to be built. `model.compile_metrics` will be empty until you train or evaluate the model.\n"
     ]
    }
   ],
   "source": [
    "# loads a trained model; only run it if you don't want to train the model\n",
    "model = load_model(\"test_model.h5\")"
   ]
  },
  {
   "cell_type": "markdown",
   "metadata": {},
   "source": [
    "After training the model, it's time to proceed to the model evaluation. Both loss and accuracy on test data are inferred in the cell below:"
   ]
  },
  {
   "cell_type": "code",
   "execution_count": 32,
   "metadata": {},
   "outputs": [
    {
     "name": "stdout",
     "output_type": "stream",
     "text": [
      "\u001b[1m1441/1441\u001b[0m \u001b[32m━━━━━━━━━━━━━━━━━━━━\u001b[0m\u001b[37m\u001b[0m \u001b[1m1126s\u001b[0m 781ms/step - accuracy: 0.7627 - loss: 0.4891\n",
      "Loss: 0.4892769157886505 \n",
      "Accuracy: 0.7629044651985168\n"
     ]
    }
   ],
   "source": [
    "y_test = pd.get_dummies(y_test)\n",
    "tf.config.run_functions_eagerly(True)\n",
    "results = model.evaluate(x_test, y_test.values, batch_size=32)\n",
    "print(\"Loss:\", results[0], \"\\nAccuracy:\", results[1])"
   ]
  },
  {
   "cell_type": "markdown",
   "metadata": {},
   "source": [
    "The following cells return the metrics of the trained model."
   ]
  },
  {
   "cell_type": "code",
   "execution_count": 27,
   "metadata": {},
   "outputs": [
    {
     "name": "stdout",
     "output_type": "stream",
     "text": [
      "\u001b[1m1441/1441\u001b[0m \u001b[32m━━━━━━━━━━━━━━━━━━━━\u001b[0m\u001b[37m\u001b[0m \u001b[1m96s\u001b[0m 67ms/step\n"
     ]
    },
    {
     "data": {
      "text/plain": [
       "array([[0.01582259, 0.9841775 ],\n",
       "       [0.05012599, 0.949874  ],\n",
       "       [0.51206774, 0.48793218],\n",
       "       ...,\n",
       "       [0.06237717, 0.93762285],\n",
       "       [0.11445933, 0.88554066],\n",
       "       [0.91874605, 0.08125391]], dtype=float32)"
      ]
     },
     "execution_count": 27,
     "metadata": {},
     "output_type": "execute_result"
    }
   ],
   "source": [
    "y_preds = model.predict(x_test)\n",
    "y_preds"
   ]
  },
  {
   "cell_type": "code",
   "execution_count": 48,
   "metadata": {},
   "outputs": [
    {
     "name": "stderr",
     "output_type": "stream",
     "text": [
      "C:\\Users\\chris\\AppData\\Local\\Temp\\ipykernel_7052\\1386572281.py:1: FutureWarning: Setting an item of incompatible dtype is deprecated and will raise in a future error of pandas. Value '0        0.0\n",
      "1        0.0\n",
      "2        0.0\n",
      "3        0.0\n",
      "4        1.0\n",
      "        ... \n",
      "46103    0.0\n",
      "46104    0.0\n",
      "46105    0.0\n",
      "46106    0.0\n",
      "46107    1.0\n",
      "Name: 0, Length: 46108, dtype: float64' has dtype incompatible with bool, please explicitly cast to a compatible dtype first.\n",
      "  y_test.iloc[:, 0] = y_test.iloc[:, 0].apply(lambda x: 1. if x is True else 0.)\n",
      "C:\\Users\\chris\\AppData\\Local\\Temp\\ipykernel_7052\\1386572281.py:2: FutureWarning: Setting an item of incompatible dtype is deprecated and will raise in a future error of pandas. Value '0        1.0\n",
      "1        1.0\n",
      "2        1.0\n",
      "3        1.0\n",
      "4        0.0\n",
      "        ... \n",
      "46103    1.0\n",
      "46104    1.0\n",
      "46105    1.0\n",
      "46106    1.0\n",
      "46107    0.0\n",
      "Name: 1, Length: 46108, dtype: float64' has dtype incompatible with bool, please explicitly cast to a compatible dtype first.\n",
      "  y_test.iloc[:, 1] = y_test.iloc[:, 1].apply(lambda x: 1. if x is True else 0.)\n"
     ]
    },
    {
     "data": {
      "text/html": [
       "<div>\n",
       "<style scoped>\n",
       "    .dataframe tbody tr th:only-of-type {\n",
       "        vertical-align: middle;\n",
       "    }\n",
       "\n",
       "    .dataframe tbody tr th {\n",
       "        vertical-align: top;\n",
       "    }\n",
       "\n",
       "    .dataframe thead th {\n",
       "        text-align: right;\n",
       "    }\n",
       "</style>\n",
       "<table border=\"1\" class=\"dataframe\">\n",
       "  <thead>\n",
       "    <tr style=\"text-align: right;\">\n",
       "      <th></th>\n",
       "      <th>0</th>\n",
       "      <th>1</th>\n",
       "    </tr>\n",
       "  </thead>\n",
       "  <tbody>\n",
       "    <tr>\n",
       "      <th>0</th>\n",
       "      <td>0.0</td>\n",
       "      <td>1.0</td>\n",
       "    </tr>\n",
       "    <tr>\n",
       "      <th>1</th>\n",
       "      <td>0.0</td>\n",
       "      <td>1.0</td>\n",
       "    </tr>\n",
       "    <tr>\n",
       "      <th>2</th>\n",
       "      <td>0.0</td>\n",
       "      <td>1.0</td>\n",
       "    </tr>\n",
       "    <tr>\n",
       "      <th>3</th>\n",
       "      <td>0.0</td>\n",
       "      <td>1.0</td>\n",
       "    </tr>\n",
       "    <tr>\n",
       "      <th>4</th>\n",
       "      <td>1.0</td>\n",
       "      <td>0.0</td>\n",
       "    </tr>\n",
       "    <tr>\n",
       "      <th>...</th>\n",
       "      <td>...</td>\n",
       "      <td>...</td>\n",
       "    </tr>\n",
       "    <tr>\n",
       "      <th>46103</th>\n",
       "      <td>0.0</td>\n",
       "      <td>1.0</td>\n",
       "    </tr>\n",
       "    <tr>\n",
       "      <th>46104</th>\n",
       "      <td>0.0</td>\n",
       "      <td>1.0</td>\n",
       "    </tr>\n",
       "    <tr>\n",
       "      <th>46105</th>\n",
       "      <td>0.0</td>\n",
       "      <td>1.0</td>\n",
       "    </tr>\n",
       "    <tr>\n",
       "      <th>46106</th>\n",
       "      <td>0.0</td>\n",
       "      <td>1.0</td>\n",
       "    </tr>\n",
       "    <tr>\n",
       "      <th>46107</th>\n",
       "      <td>1.0</td>\n",
       "      <td>0.0</td>\n",
       "    </tr>\n",
       "  </tbody>\n",
       "</table>\n",
       "<p>46108 rows × 2 columns</p>\n",
       "</div>"
      ],
      "text/plain": [
       "         0    1\n",
       "0      0.0  1.0\n",
       "1      0.0  1.0\n",
       "2      0.0  1.0\n",
       "3      0.0  1.0\n",
       "4      1.0  0.0\n",
       "...    ...  ...\n",
       "46103  0.0  1.0\n",
       "46104  0.0  1.0\n",
       "46105  0.0  1.0\n",
       "46106  0.0  1.0\n",
       "46107  1.0  0.0\n",
       "\n",
       "[46108 rows x 2 columns]"
      ]
     },
     "execution_count": 48,
     "metadata": {},
     "output_type": "execute_result"
    }
   ],
   "source": [
    "# convert boolean values to float ones\n",
    "y_test.iloc[:, 0] = y_test.iloc[:, 0].apply(lambda x: 1. if x is True else 0.)\n",
    "y_test.iloc[:, 1] = y_test.iloc[:, 1].apply(lambda x: 1. if x is True else 0.)\n",
    "y_test"
   ]
  },
  {
   "cell_type": "code",
   "execution_count": 53,
   "metadata": {},
   "outputs": [
    {
     "name": "stdout",
     "output_type": "stream",
     "text": [
      "              precision    recall  f1-score   support\n",
      "\n",
      "           0       0.57      0.87      0.69     13839\n",
      "           1       0.93      0.72      0.81     32269\n",
      "\n",
      "   micro avg       0.76      0.76      0.76     46108\n",
      "   macro avg       0.75      0.79      0.75     46108\n",
      "weighted avg       0.82      0.76      0.77     46108\n",
      " samples avg       0.76      0.76      0.76     46108\n",
      "\n"
     ]
    }
   ],
   "source": [
    "# show the metrics for each class (0 represents negative sentiment, 1 represents positive sentiment)\n",
    "\n",
    "print(classification_report(y_test.values, y_preds.round()))"
   ]
  },
  {
   "cell_type": "markdown",
   "metadata": {},
   "source": [
    "## 6. Additional: Word \"density\" per sentence"
   ]
  },
  {
   "cell_type": "markdown",
   "metadata": {},
   "source": [
    "As an additional step, we'll proceed with checking the words in a given sentence. For doing that, we'll use three lists: one containing the most frequent positive terms, one containing most frequent neutral terms, and one containing the most frequent negative terms. For each list, We'll determine how many words, from the sentence, belong to it. We'll then get the amount of positive, neutral and negative terms for every sentence. In order to create these lsits, the training set was used."
   ]
  },
  {
   "cell_type": "code",
   "execution_count": 54,
   "metadata": {},
   "outputs": [],
   "source": [
    "# getting most frequent terms in positive reviews\n",
    "\n",
    "pos_words_list = [word for line in train_df[train_df[\"rating\"] > 5].review for word in line.split()]\n",
    "\n",
    "most_common_words_pos = Counter(pos_words_list).most_common(250)\n",
    "words_df = pd.DataFrame(most_common_words_pos)\n",
    "words_df.columns = [\"word\", \"freq\"]\n",
    "\n",
    "#px.bar(words_df, x = \"word\", y = \"freq\", title = \"Most common words in training set where review is positive\")"
   ]
  },
  {
   "cell_type": "code",
   "execution_count": 55,
   "metadata": {},
   "outputs": [],
   "source": [
    "# getting most frequent terms in neutral reviews\n",
    "\n",
    "neu_words_list = [word for line in train_df[train_df[\"rating\"] == 5].review for word in line.split()]\n",
    "\n",
    "most_common_words_neu = Counter(neu_words_list).most_common(250)\n",
    "words_df = pd.DataFrame(most_common_words_neu)\n",
    "words_df.columns = [\"word\", \"freq\"]\n",
    "\n",
    "#px.bar(words_df, x = \"word\", y = \"freq\", title = \"Most common words in training set where review is neutral\")"
   ]
  },
  {
   "cell_type": "code",
   "execution_count": 56,
   "metadata": {},
   "outputs": [],
   "source": [
    "# getting most frequent terms in negative reviews\n",
    "\n",
    "neg_words_list = [word for line in train_df[train_df[\"rating\"] < 5].review for word in line.split()]\n",
    "\n",
    "most_common_words_neg = Counter(neg_words_list).most_common(250)\n",
    "words_df = pd.DataFrame(most_common_words_neg)\n",
    "words_df.columns = [\"word\", \"freq\"]\n",
    "\n",
    "#px.bar(words_df, x = \"word\", y = \"freq\", title = \"Most common words in training set where review is negative\")"
   ]
  },
  {
   "cell_type": "code",
   "execution_count": 57,
   "metadata": {},
   "outputs": [],
   "source": [
    "# creating lists of most frequent positive, neutral, or negative terms\n",
    "\n",
    "pos_terms = []\n",
    "neu_terms = []\n",
    "neg_terms = []\n",
    "\n",
    "most_common_words_pos = [item[0] for item in most_common_words_pos]\n",
    "most_common_words_neu = [item[0] for item in most_common_words_neu]\n",
    "most_common_words_neg = [item[0] for item in most_common_words_neg]\n",
    "\n",
    "for word in most_common_words_pos:\n",
    "    if word in most_common_words_neu or word in most_common_words_neg:\n",
    "        continue\n",
    "    else:\n",
    "        pos_terms.append(word)\n",
    "\n",
    "for word in most_common_words_neu:\n",
    "    if word in most_common_words_pos or word in most_common_words_neg:\n",
    "        continue\n",
    "    else:\n",
    "        neu_terms.append(word)\n",
    "\n",
    "for word in most_common_words_neg:\n",
    "    if word in most_common_words_neu or word in most_common_words_pos:\n",
    "        continue\n",
    "    else:\n",
    "        neg_terms.append(word)"
   ]
  },
  {
   "cell_type": "code",
   "execution_count": 58,
   "metadata": {},
   "outputs": [
    {
     "data": {
      "text/plain": [
       "['caused',\n",
       " 'awful',\n",
       " 'heart',\n",
       " 'extreme',\n",
       " 'anyone',\n",
       " 'constant',\n",
       " 'leg',\n",
       " 'burning',\n",
       " 'immediately',\n",
       " 'eye',\n",
       " 'nauseous',\n",
       " 'reaction',\n",
       " 'reason',\n",
       " 'wanted',\n",
       " 'woke',\n",
       " 'nexplanon',\n",
       " 'absolutely',\n",
       " 'bc',\n",
       " 'read']"
      ]
     },
     "execution_count": 58,
     "metadata": {},
     "output_type": "execute_result"
    }
   ],
   "source": [
    "neg_terms"
   ]
  },
  {
   "cell_type": "code",
   "execution_count": 189,
   "metadata": {},
   "outputs": [
    {
     "name": "stdout",
     "output_type": "stream",
     "text": [
      "The following sentence:\n",
      " nexplanon since june bleed two three week every month became extremely emotional hormonal boyfriend want get removed honestly thinking \n",
      "has a rating of:  3.0\n"
     ]
    }
   ],
   "source": [
    "# checking amount of terms per sentence using a random review\n",
    "import random\n",
    "\n",
    "index = random.randint(0, test_df.shape[0] - 1)\n",
    "example_review = test_df.iloc[index, 2]\n",
    "example_rating = test_df.iloc[index, 3]\n",
    "print(\"The following sentence:\\n\", example_review, \"\\nhas a rating of: \", example_rating)"
   ]
  },
  {
   "cell_type": "code",
   "execution_count": 190,
   "metadata": {},
   "outputs": [
    {
     "name": "stdout",
     "output_type": "stream",
     "text": [
      "The example review contains 0 positive words, 0 neutral words, and 1 negative words, considering the lists created using the most frequent terms.\n",
      "\n",
      "Total positive:\t0/19\n",
      "Total neutral:\t0/19\n",
      "Total negative:\t1/19\n"
     ]
    }
   ],
   "source": [
    "# checking amount of positive, neutral, or negative terms, according to the created lists\n",
    "\n",
    "count_pos = len([1 for word in example_review.split() if word in pos_terms])\n",
    "count_neu = len([1 for word in example_review.split() if word in neu_terms])\n",
    "count_neg = len([1 for word in example_review.split() if word in neg_terms])\n",
    "\n",
    "print(f\"The example review contains {count_pos} positive words, {count_neu} neutral words, and {count_neg} negative words, considering the lists created using the most frequent terms.\")\n",
    "print(f\"\\nTotal positive:\\t{count_pos}/{len(example_review.split())}\\nTotal neutral:\\t{count_neu}/{len(example_review.split())}\\nTotal negative:\\t{count_neg}/{len(example_review.split())}\")"
   ]
  },
  {
   "cell_type": "markdown",
   "metadata": {},
   "source": [
    "By the analysis performed above, the review is more likely neutral. Let's check what the model predicts:"
   ]
  },
  {
   "cell_type": "code",
   "execution_count": 191,
   "metadata": {},
   "outputs": [
    {
     "name": "stdout",
     "output_type": "stream",
     "text": [
      "\u001b[1m1/1\u001b[0m \u001b[32m━━━━━━━━━━━━━━━━━━━━\u001b[0m\u001b[37m\u001b[0m \u001b[1m0s\u001b[0m 57ms/step\n",
      "[[0.9635246  0.03647543]]\n"
     ]
    }
   ],
   "source": [
    "# transforming sentence to sequence of vectors\n",
    "\n",
    "padded_seq_review = tokeniser.texts_to_sequences(np.array([example_review]))\n",
    "padded_seq_review = pad_sequences(padded_seq_review)\n",
    "\n",
    "tf.config.run_functions_eagerly(True)\n",
    "pred = model.predict(padded_seq_review)\n",
    "\n",
    "print(pred)"
   ]
  },
  {
   "cell_type": "code",
   "execution_count": 192,
   "metadata": {},
   "outputs": [
    {
     "name": "stdout",
     "output_type": "stream",
     "text": [
      "[1. 0.]\n"
     ]
    }
   ],
   "source": [
    "pred = np.round(pred[0])\n",
    "print(pred)"
   ]
  },
  {
   "cell_type": "code",
   "execution_count": 193,
   "metadata": {},
   "outputs": [
    {
     "name": "stdout",
     "output_type": "stream",
     "text": [
      "Sentence is predicted to be negative\n"
     ]
    }
   ],
   "source": [
    "print(\"Sentence is predicted to be\", \"positive\" if pred[0] == 0 else \"negative\")"
   ]
  },
  {
   "cell_type": "code",
   "execution_count": 129,
   "metadata": {},
   "outputs": [
    {
     "data": {
      "text/plain": [
       "array(['taking one pill within half hour erect hard sex could keep going surprise deciding continue fool around found easy become erect aroused continued day night next day happy result taking one pill half'],\n",
       "      dtype='<U198')"
      ]
     },
     "execution_count": 129,
     "metadata": {},
     "output_type": "execute_result"
    }
   ],
   "source": [
    "np.array([example_review])"
   ]
  },
  {
   "cell_type": "code",
   "execution_count": null,
   "metadata": {},
   "outputs": [],
   "source": []
  }
 ],
 "metadata": {
  "kernelspec": {
   "display_name": "base",
   "language": "python",
   "name": "python3"
  },
  "language_info": {
   "codemirror_mode": {
    "name": "ipython",
    "version": 3
   },
   "file_extension": ".py",
   "mimetype": "text/x-python",
   "name": "python",
   "nbconvert_exporter": "python",
   "pygments_lexer": "ipython3",
   "version": "3.12.3"
  }
 },
 "nbformat": 4,
 "nbformat_minor": 2
}
